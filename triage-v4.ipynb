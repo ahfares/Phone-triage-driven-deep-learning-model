{
 "cells": [
  {
   "cell_type": "code",
   "execution_count": null,
   "metadata": {},
   "outputs": [],
   "source": [
    "import tensorflow as tf\n",
    "import numpy as np\n",
    "import pandas as pd\n",
    "from tensorflow import keras \n",
    "from tensorflow.keras import layers\n",
    "from tensorflow.keras.optimizers import Adam\n",
    "from tensorflow.keras.callbacks import ModelCheckpoint\n",
    "\n",
    "\n",
    "\n",
    "dataframe = pd.read_excel('triage dataset-coded 3.xlsx')"
   ]
  },
  {
   "cell_type": "code",
   "execution_count": null,
   "metadata": {},
   "outputs": [],
   "source": [
    "print(dataframe)"
   ]
  },
  {
   "cell_type": "code",
   "execution_count": null,
   "metadata": {},
   "outputs": [],
   "source": [
    "dataframe.shape"
   ]
  },
  {
   "cell_type": "code",
   "execution_count": null,
   "metadata": {},
   "outputs": [],
   "source": [
    "dataframe = dataframe.dropna()"
   ]
  },
  {
   "cell_type": "code",
   "execution_count": null,
   "metadata": {},
   "outputs": [],
   "source": [
    "dataframe.head()"
   ]
  },
  {
   "cell_type": "code",
   "execution_count": null,
   "metadata": {},
   "outputs": [],
   "source": [
    "dataframe.shape"
   ]
  },
  {
   "cell_type": "code",
   "execution_count": null,
   "metadata": {},
   "outputs": [],
   "source": [
    "val_dataframe = dataframe.sample(frac=0.2, random_state=1337)\n",
    "train_dataframe = dataframe.drop(val_dataframe.index)\n",
    "\n",
    "print(\n",
    "    \"Using %d samples for training and %d for validation\"\n",
    "    % (len(train_dataframe), len(val_dataframe))\n",
    ")"
   ]
  },
  {
   "cell_type": "code",
   "execution_count": null,
   "metadata": {},
   "outputs": [],
   "source": [
    "def dataframe_to_dataset(dataframe):\n",
    "    dataframe = dataframe.copy()\n",
    "    labels = dataframe.pop(\"pcr\")\n",
    "    ds = tf.data.Dataset.from_tensor_slices((dict(dataframe), labels))\n",
    "    ds = ds.shuffle(buffer_size=len(dataframe))\n",
    "    return ds\n",
    "\n",
    "\n",
    "train_ds = dataframe_to_dataset(train_dataframe)\n",
    "val_ds = dataframe_to_dataset(val_dataframe)"
   ]
  },
  {
   "cell_type": "code",
   "execution_count": null,
   "metadata": {},
   "outputs": [],
   "source": [
    "for x, y in train_ds.take(1):\n",
    "    print(\"Input:\", x)\n",
    "    print(\"Target:\", y)"
   ]
  },
  {
   "cell_type": "code",
   "execution_count": null,
   "metadata": {},
   "outputs": [],
   "source": [
    "train_ds = train_ds.batch(32)\n",
    "val_ds = val_ds.batch(32)"
   ]
  },
  {
   "cell_type": "code",
   "execution_count": null,
   "metadata": {},
   "outputs": [],
   "source": [
    "from tensorflow.keras.layers.experimental.preprocessing import Normalization\n",
    "from tensorflow.keras.layers.experimental.preprocessing import CategoryEncoding\n",
    "from tensorflow.keras.layers.experimental.preprocessing import StringLookup\n",
    "\n",
    "\n",
    "def encode_numerical_feature(feature, name, dataset):\n",
    "    # Create a Normalization layer for our feature\n",
    "    normalizer = Normalization()\n",
    "\n",
    "    # Prepare a Dataset that only yields our feature\n",
    "    feature_ds = dataset.map(lambda x, y: x[name])\n",
    "    feature_ds = feature_ds.map(lambda x: tf.expand_dims(x, -1))\n",
    "\n",
    "    # Learn the statistics of the data\n",
    "    normalizer.adapt(feature_ds)\n",
    "\n",
    "    # Normalize the input feature\n",
    "    encoded_feature = normalizer(feature)\n",
    "    return encoded_feature\n",
    "\n",
    "\n",
    "def encode_string_categorical_feature(feature, name, dataset):\n",
    "    # Create a StringLookup layer which will turn strings into integer indices\n",
    "    index = StringLookup()\n",
    "\n",
    "    # Prepare a Dataset that only yields our feature\n",
    "    feature_ds = dataset.map(lambda x, y: x[name])\n",
    "    feature_ds = feature_ds.map(lambda x: tf.expand_dims(x, -1))\n",
    "\n",
    "    # Learn the set of possible string values and assign them a fixed integer index\n",
    "    index.adapt(feature_ds)\n",
    "\n",
    "    # Turn the string input into integer indices\n",
    "    encoded_feature = index(feature)\n",
    "\n",
    "    # Create a CategoryEncoding for our integer indices\n",
    "    encoder = CategoryEncoding(output_mode=\"binary\")\n",
    "\n",
    "    # Prepare a dataset of indices\n",
    "    feature_ds = feature_ds.map(index)\n",
    "\n",
    "    # Learn the space of possible indices\n",
    "    encoder.adapt(feature_ds)\n",
    "\n",
    "    # Apply one-hot encoding to our indices\n",
    "    encoded_feature = encoder(encoded_feature)\n",
    "    return encoded_feature\n",
    "\n",
    "\n",
    "def encode_integer_categorical_feature(feature, name, dataset):\n",
    "    # Create a CategoryEncoding for our integer indices\n",
    "    encoder = CategoryEncoding(output_mode=\"binary\")\n",
    "\n",
    "    # Prepare a Dataset that only yields our feature\n",
    "    feature_ds = dataset.map(lambda x, y: x[name])\n",
    "    feature_ds = feature_ds.map(lambda x: tf.expand_dims(x, -1))\n",
    "\n",
    "    # Learn the space of possible indices\n",
    "    encoder.adapt(feature_ds)\n",
    "\n",
    "    # Apply one-hot encoding to our indices\n",
    "    encoded_feature = encoder(feature)\n",
    "    return encoded_feature"
   ]
  },
  {
   "cell_type": "code",
   "execution_count": null,
   "metadata": {},
   "outputs": [],
   "source": [
    "# Categorical features encoded as integers\n",
    "gender= keras.Input(shape=(1,), name=\"gender\", dtype=\"int64\")\n",
    "job= keras.Input(shape=(1,), name=\"job\", dtype=\"int64\")\n",
    "respcontact= keras.Input(shape=(1,), name=\"respcontact\", dtype=\"int64\")\n",
    "placevisit= keras.Input(shape=(1,), name=\"placevisit\", dtype=\"int64\")\n",
    "healthworker= keras.Input(shape=(1,), name=\"healthworker\", dtype=\"int64\")\n",
    "fever= keras.Input(shape=(1,), name=\"fever\", dtype=\"int64\")\n",
    "cough= keras.Input(shape=(1,), name=\"cough\", dtype=\"int64\")\n",
    "sorethroat= keras.Input(shape=(1,), name=\"sorethroat\", dtype=\"int64\")\n",
    "vomdiarrhea= keras.Input(shape=(1,), name=\"vomdiarrhea\", dtype=\"int64\")\n",
    "malaise= keras.Input(shape=(1,), name=\"malaise\", dtype=\"int64\")\n",
    "smelltaste= keras.Input(shape=(1,), name=\"smelltaste\", dtype=\"int64\")\n",
    "smoking= keras.Input(shape=(1,), name=\"smoking\", dtype=\"int64\") \n",
    "pregnancy= keras.Input(shape=(1,), name=\"pregnancy\", dtype=\"int64\")\n",
    "immundiff= keras.Input(shape=(1,), name=\"immundiff\", dtype=\"int64\")\n",
    "comorbid= keras.Input(shape=(1,), name=\"comorbid\", dtype=\"int64\")\n",
    "dm= keras.Input(shape=(1,), name=\"dm\", dtype=\"int64\")\n",
    "htn= keras.Input(shape=(1,), name=\"htn\", dtype=\"int64\")\n",
    "cardiac= keras.Input(shape=(1,), name=\"cardiac\", dtype=\"int64\")\n",
    "ckd= keras.Input(shape=(1,), name=\"ckd\", dtype=\"int64\")\n",
    "chest= keras.Input(shape=(1,), name=\"chest\", dtype=\"int64\")\n",
    "hepatic= keras.Input(shape=(1,), name=\"hepatic\", dtype=\"int64\")\n",
    "cancer= keras.Input(shape=(1,), name=\"cancer\", dtype=\"int64\")\n",
    "others= keras.Input(shape=(1,), name=\"others\", dtype=\"int64\")\n",
    "\n",
    "# Categorical feature encoded as string\n",
    "# thal = keras.Input(shape=(1,), name=\"thal\", dtype=\"string\")\n",
    "\n",
    "# Numerical features\n",
    "age= keras.Input(shape=(1,), name=\"age\")\n",
    "\n",
    "\n",
    "all_inputs = [\n",
    "    gender,\n",
    "    age,\n",
    "    job,\n",
    "    respcontact,\n",
    "    placevisit,\n",
    "    healthworker,\n",
    "    fever,\n",
    "    cough,\n",
    "    sorethroat,\n",
    "    vomdiarrhea,\n",
    "    malaise,\n",
    "    smelltaste,\n",
    "    smoking,\n",
    "    pregnancy,\n",
    "    immundiff,\n",
    "    comorbid,\n",
    "    dm,\n",
    "    htn,\n",
    "    cardiac,\n",
    "    ckd,\n",
    "    chest,\n",
    "    hepatic,\n",
    "    cancer,\n",
    "    others,  \n",
    "]\n",
    "\n",
    "# Integer categorical features\n",
    "gender_encoded = encode_integer_categorical_feature(gender, \"gender\", train_ds)\n",
    "job_encoded = encode_integer_categorical_feature(job, \"job\", train_ds)\n",
    "respcontact_encoded = encode_integer_categorical_feature(respcontact, \"respcontact\", train_ds)\n",
    "placevisit_encoded = encode_integer_categorical_feature(placevisit, \"placevisit\", train_ds)\n",
    "healthworker_encoded = encode_integer_categorical_feature(healthworker, \"healthworker\", train_ds)\n",
    "fever_encoded = encode_integer_categorical_feature(fever, \"fever\", train_ds)\n",
    "cough_encoded = encode_integer_categorical_feature(cough, \"cough\", train_ds)\n",
    "sorethroat_encoded = encode_integer_categorical_feature(sorethroat, \"sorethroat\", train_ds)\n",
    "vomdiarrhea_encoded = encode_integer_categorical_feature(vomdiarrhea, \"vomdiarrhea\", train_ds)\n",
    "malaise_encoded = encode_integer_categorical_feature(malaise, \"malaise\", train_ds)\n",
    "smelltaste_encoded = encode_integer_categorical_feature(smelltaste, \"smelltaste\", train_ds)\n",
    "smoking_encoded = encode_integer_categorical_feature(smoking, \"smoking\", train_ds)\n",
    "pregnancy_encoded = encode_integer_categorical_feature(pregnancy, \"pregnancy\", train_ds)\n",
    "immundiff_encoded = encode_integer_categorical_feature(immundiff, \"immundiff\", train_ds)\n",
    "comorbid_encoded = encode_integer_categorical_feature(comorbid, \"comorbid\", train_ds)\n",
    "dm_encoded = encode_integer_categorical_feature(dm, \"dm\", train_ds)\n",
    "htn_encoded = encode_integer_categorical_feature(htn, \"htn\", train_ds)\n",
    "cardiac_encoded = encode_integer_categorical_feature(cardiac, \"cardiac\", train_ds)\n",
    "ckd_encoded = encode_integer_categorical_feature(ckd, \"ckd\", train_ds)\n",
    "chest_encoded = encode_integer_categorical_feature(chest, \"chest\", train_ds)\n",
    "hepatic_encoded = encode_integer_categorical_feature(hepatic, \"hepatic\", train_ds)\n",
    "cancer_encoded = encode_integer_categorical_feature(cancer, \"cancer\", train_ds)\n",
    "others_encoded = encode_integer_categorical_feature(others, \"others\", train_ds)\n",
    "\n",
    "# String categorical features\n",
    "# thal_encoded = encode_string_categorical_feature(thal, \"thal\", train_ds)\n",
    "\n",
    "# Numerical features\n",
    "age_encoded = encode_numerical_feature(age, \"age\", train_ds)\n",
    "\n",
    "all_features = layers.concatenate(\n",
    "    [\n",
    "        gender_encoded,\n",
    "        age_encoded,\n",
    "        job_encoded,\n",
    "        respcontact_encoded,\n",
    "        placevisit_encoded,\n",
    "        healthworker_encoded,\n",
    "        fever_encoded,\n",
    "        cough_encoded,\n",
    "        sorethroat_encoded,\n",
    "        vomdiarrhea_encoded,\n",
    "        malaise_encoded,\n",
    "        smelltaste_encoded,\n",
    "        smoking_encoded,\n",
    "        pregnancy_encoded,\n",
    "        immundiff_encoded,\n",
    "        comorbid_encoded,\n",
    "        dm_encoded,\n",
    "        htn_encoded,\n",
    "        cardiac_encoded,\n",
    "        ckd_encoded,\n",
    "        chest_encoded,\n",
    "        hepatic_encoded,\n",
    "        cancer_encoded,\n",
    "        others_encoded,\n",
    "    ]\n",
    ")\n",
    "\n",
    "# initialize the initial learning rate, number of epochs to train for,\n",
    "# and batch size\n",
    "INIT_LR = 1e-4\n",
    "EPOCHS = 20\n",
    "BS = 32\n",
    "\n",
    "\n",
    "x = keras.layers.Dense(32)(all_features)\n",
    "x = layers.BatchNormalization()(x)\n",
    "x = layers.LeakyReLU()(x)\n",
    "x = keras.layers.Dropout(0.5)(x)\n",
    "x = keras.layers.Dense(16)(x)\n",
    "x = layers.BatchNormalization()(x)\n",
    "x = layers.LeakyReLU()(x)\n",
    "x = keras.layers.Dropout(0.5)(x)\n",
    "x = keras.layers.Dense(8)(x)\n",
    "x = layers.BatchNormalization()(x)\n",
    "x = layers.LeakyReLU()(x)\n",
    "x = keras.layers.Dropout(0.5)(x)\n",
    "output = keras.layers.Dense(1, activation=\"sigmoid\")(x)\n",
    "\n",
    "model = keras.Model(all_inputs, output)\n",
    "\n",
    "model.compile(loss=\"binary_crossentropy\", optimizer=\"Adam\",metrics=[\"accuracy\"])"
   ]
  },
  {
   "cell_type": "code",
   "execution_count": null,
   "metadata": {},
   "outputs": [],
   "source": [
    "# `rankdir='LR'` is to make the graph horizontal.\n",
    "keras.utils.plot_model(model, show_shapes=True, rankdir=\"LR\")"
   ]
  },
  {
   "cell_type": "code",
   "execution_count": null,
   "metadata": {
    "scrolled": false
   },
   "outputs": [],
   "source": [
    "model.summary()"
   ]
  },
  {
   "cell_type": "code",
   "execution_count": null,
   "metadata": {
    "scrolled": false
   },
   "outputs": [],
   "source": [
    "# checkpoint\n",
    "# weights.best=0.65854\n",
    "# \n",
    "filepath=\"weights.best_2.hdf5\"\n",
    "checkpoint = ModelCheckpoint(filepath, monitor='val_accuracy', verbose=1, save_best_only=True, mode='max')\n",
    "callbacks_list = [checkpoint]\n",
    "\n",
    "model.fit(train_ds, epochs=100, validation_data=val_ds, callbacks=callbacks_list)"
   ]
  },
  {
   "cell_type": "code",
   "execution_count": null,
   "metadata": {},
   "outputs": [],
   "source": [
    "# model.save('triage-v4-0.7119')\n"
   ]
  },
  {
   "cell_type": "code",
   "execution_count": null,
   "metadata": {},
   "outputs": [],
   "source": []
  },
  {
   "cell_type": "code",
   "execution_count": null,
   "metadata": {},
   "outputs": [],
   "source": []
  },
  {
   "cell_type": "code",
   "execution_count": null,
   "metadata": {},
   "outputs": [],
   "source": []
  }
 ],
 "metadata": {
  "kernelspec": {
   "display_name": "Python 3",
   "language": "python",
   "name": "python3"
  },
  "language_info": {
   "codemirror_mode": {
    "name": "ipython",
    "version": 3
   },
   "file_extension": ".py",
   "mimetype": "text/x-python",
   "name": "python",
   "nbconvert_exporter": "python",
   "pygments_lexer": "ipython3",
   "version": "3.7.6"
  }
 },
 "nbformat": 4,
 "nbformat_minor": 4
}
